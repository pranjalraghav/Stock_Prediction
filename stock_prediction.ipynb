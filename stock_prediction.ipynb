{
 "cells": [
  {
   "cell_type": "markdown",
   "id": "f25f476f",
   "metadata": {},
   "source": [
    "# task 1"
   ]
  },
  {
   "cell_type": "raw",
   "id": "2b324ff6",
   "metadata": {},
   "source": [
    "Stock Prediction"
   ]
  },
  {
   "cell_type": "markdown",
   "id": "68b51a9c",
   "metadata": {},
   "source": [
    "Take stock price of any company and predicts its price by using LSTM."
   ]
  },
  {
   "cell_type": "markdown",
   "id": "37270c78",
   "metadata": {},
   "source": [
    "yahoo finance as data source"
   ]
  },
  {
   "cell_type": "code",
   "execution_count": 63,
   "id": "0eca7c6c",
   "metadata": {
    "scrolled": true
   },
   "outputs": [
    {
     "name": "stdout",
     "output_type": "stream",
     "text": [
      "Requirement already satisfied: yfinance in c:\\users\\pranjal\\anaconda3\\new folder\\lib\\site-packages (0.2.22)\n",
      "Requirement already satisfied: multitasking>=0.0.7 in c:\\users\\pranjal\\anaconda3\\new folder\\lib\\site-packages (from yfinance) (0.0.11)\n",
      "Requirement already satisfied: pandas>=1.3.0 in c:\\users\\pranjal\\anaconda3\\new folder\\lib\\site-packages (from yfinance) (1.4.2)\n",
      "Requirement already satisfied: appdirs>=1.4.4 in c:\\users\\pranjal\\anaconda3\\new folder\\lib\\site-packages (from yfinance) (1.4.4)\n",
      "Requirement already satisfied: requests>=2.26 in c:\\users\\pranjal\\anaconda3\\new folder\\lib\\site-packages (from yfinance) (2.27.1)\n",
      "Requirement already satisfied: pytz>=2022.5 in c:\\users\\pranjal\\anaconda3\\new folder\\lib\\site-packages (from yfinance) (2023.3)\n",
      "Requirement already satisfied: lxml>=4.9.1 in c:\\users\\pranjal\\anaconda3\\new folder\\lib\\site-packages (from yfinance) (4.9.2)\n",
      "Requirement already satisfied: html5lib>=1.1 in c:\\users\\pranjal\\anaconda3\\new folder\\lib\\site-packages (from yfinance) (1.1)\n",
      "Requirement already satisfied: beautifulsoup4>=4.11.1 in c:\\users\\pranjal\\anaconda3\\new folder\\lib\\site-packages (from yfinance) (4.11.1)\n",
      "Requirement already satisfied: numpy>=1.16.5 in c:\\users\\pranjal\\anaconda3\\new folder\\lib\\site-packages (from yfinance) (1.21.5)\n",
      "Requirement already satisfied: frozendict>=2.3.4 in c:\\users\\pranjal\\anaconda3\\new folder\\lib\\site-packages (from yfinance) (2.3.8)\n",
      "Requirement already satisfied: soupsieve>1.2 in c:\\users\\pranjal\\anaconda3\\new folder\\lib\\site-packages (from beautifulsoup4>=4.11.1->yfinance) (2.3.1)\n",
      "Requirement already satisfied: six>=1.9 in c:\\users\\pranjal\\anaconda3\\new folder\\lib\\site-packages (from html5lib>=1.1->yfinance) (1.16.0)\n",
      "Requirement already satisfied: webencodings in c:\\users\\pranjal\\anaconda3\\new folder\\lib\\site-packages (from html5lib>=1.1->yfinance) (0.5.1)\n",
      "Requirement already satisfied: python-dateutil>=2.8.1 in c:\\users\\pranjal\\anaconda3\\new folder\\lib\\site-packages (from pandas>=1.3.0->yfinance) (2.8.2)\n",
      "Requirement already satisfied: urllib3<1.27,>=1.21.1 in c:\\users\\pranjal\\anaconda3\\new folder\\lib\\site-packages (from requests>=2.26->yfinance) (1.26.9)\n",
      "Requirement already satisfied: idna<4,>=2.5 in c:\\users\\pranjal\\anaconda3\\new folder\\lib\\site-packages (from requests>=2.26->yfinance) (3.3)\n",
      "Requirement already satisfied: charset-normalizer~=2.0.0 in c:\\users\\pranjal\\anaconda3\\new folder\\lib\\site-packages (from requests>=2.26->yfinance) (2.0.4)\n",
      "Requirement already satisfied: certifi>=2017.4.17 in c:\\users\\pranjal\\anaconda3\\new folder\\lib\\site-packages (from requests>=2.26->yfinance) (2021.10.8)\n",
      "Note: you may need to restart the kernel to use updated packages.\n"
     ]
    }
   ],
   "source": [
    "pip install yfinance"
   ]
  },
  {
   "cell_type": "code",
   "execution_count": 2,
   "id": "366dc107",
   "metadata": {},
   "outputs": [],
   "source": [
    "import yfinance as yf"
   ]
  },
  {
   "cell_type": "markdown",
   "id": "e7f3ffe4",
   "metadata": {},
   "source": [
    "See the yahoo finance ticker for your stock symbol"
   ]
  },
  {
   "cell_type": "code",
   "execution_count": 65,
   "id": "3f7c9498",
   "metadata": {},
   "outputs": [],
   "source": [
    "stock_symbol = 'GAIL.NS'"
   ]
  },
  {
   "cell_type": "markdown",
   "id": "01cfcd07",
   "metadata": {},
   "source": [
    "last 5 years data with interval of 1 day"
   ]
  },
  {
   "cell_type": "code",
   "execution_count": 4,
   "id": "4cc934d1",
   "metadata": {},
   "outputs": [
    {
     "name": "stdout",
     "output_type": "stream",
     "text": [
      "[*********************100%***********************]  1 of 1 completed\n"
     ]
    }
   ],
   "source": [
    "data = yf.download(tickers=stock_symbol,period='5y',interval='1d')"
   ]
  },
  {
   "cell_type": "code",
   "execution_count": 5,
   "id": "15052822",
   "metadata": {},
   "outputs": [
    {
     "data": {
      "text/plain": [
       "pandas.core.frame.DataFrame"
      ]
     },
     "execution_count": 5,
     "metadata": {},
     "output_type": "execute_result"
    }
   ],
   "source": [
    "type(data)"
   ]
  },
  {
   "cell_type": "code",
   "execution_count": 6,
   "id": "9904e7eb",
   "metadata": {},
   "outputs": [
    {
     "data": {
      "text/html": [
       "<div>\n",
       "<style scoped>\n",
       "    .dataframe tbody tr th:only-of-type {\n",
       "        vertical-align: middle;\n",
       "    }\n",
       "\n",
       "    .dataframe tbody tr th {\n",
       "        vertical-align: top;\n",
       "    }\n",
       "\n",
       "    .dataframe thead th {\n",
       "        text-align: right;\n",
       "    }\n",
       "</style>\n",
       "<table border=\"1\" class=\"dataframe\">\n",
       "  <thead>\n",
       "    <tr style=\"text-align: right;\">\n",
       "      <th></th>\n",
       "      <th>Open</th>\n",
       "      <th>High</th>\n",
       "      <th>Low</th>\n",
       "      <th>Close</th>\n",
       "      <th>Adj Close</th>\n",
       "      <th>Volume</th>\n",
       "    </tr>\n",
       "    <tr>\n",
       "      <th>Date</th>\n",
       "      <th></th>\n",
       "      <th></th>\n",
       "      <th></th>\n",
       "      <th></th>\n",
       "      <th></th>\n",
       "      <th></th>\n",
       "    </tr>\n",
       "  </thead>\n",
       "  <tbody>\n",
       "    <tr>\n",
       "      <th>2018-06-25</th>\n",
       "      <td>113.900002</td>\n",
       "      <td>114.966667</td>\n",
       "      <td>112.750000</td>\n",
       "      <td>113.733330</td>\n",
       "      <td>90.405800</td>\n",
       "      <td>12671994</td>\n",
       "    </tr>\n",
       "    <tr>\n",
       "      <th>2018-06-26</th>\n",
       "      <td>113.733330</td>\n",
       "      <td>115.150002</td>\n",
       "      <td>113.150002</td>\n",
       "      <td>113.916664</td>\n",
       "      <td>90.551537</td>\n",
       "      <td>14068107</td>\n",
       "    </tr>\n",
       "    <tr>\n",
       "      <th>2018-06-27</th>\n",
       "      <td>113.800003</td>\n",
       "      <td>113.916664</td>\n",
       "      <td>107.666664</td>\n",
       "      <td>109.599998</td>\n",
       "      <td>87.120255</td>\n",
       "      <td>13331112</td>\n",
       "    </tr>\n",
       "    <tr>\n",
       "      <th>2018-06-28</th>\n",
       "      <td>108.800003</td>\n",
       "      <td>108.800003</td>\n",
       "      <td>105.183334</td>\n",
       "      <td>106.516663</td>\n",
       "      <td>84.669334</td>\n",
       "      <td>19549908</td>\n",
       "    </tr>\n",
       "    <tr>\n",
       "      <th>2018-06-29</th>\n",
       "      <td>106.883331</td>\n",
       "      <td>116.266663</td>\n",
       "      <td>106.883331</td>\n",
       "      <td>113.416664</td>\n",
       "      <td>90.154091</td>\n",
       "      <td>22779048</td>\n",
       "    </tr>\n",
       "  </tbody>\n",
       "</table>\n",
       "</div>"
      ],
      "text/plain": [
       "                  Open        High         Low       Close  Adj Close  \\\n",
       "Date                                                                    \n",
       "2018-06-25  113.900002  114.966667  112.750000  113.733330  90.405800   \n",
       "2018-06-26  113.733330  115.150002  113.150002  113.916664  90.551537   \n",
       "2018-06-27  113.800003  113.916664  107.666664  109.599998  87.120255   \n",
       "2018-06-28  108.800003  108.800003  105.183334  106.516663  84.669334   \n",
       "2018-06-29  106.883331  116.266663  106.883331  113.416664  90.154091   \n",
       "\n",
       "              Volume  \n",
       "Date                  \n",
       "2018-06-25  12671994  \n",
       "2018-06-26  14068107  \n",
       "2018-06-27  13331112  \n",
       "2018-06-28  19549908  \n",
       "2018-06-29  22779048  "
      ]
     },
     "execution_count": 6,
     "metadata": {},
     "output_type": "execute_result"
    }
   ],
   "source": [
    "data.head(5)"
   ]
  },
  {
   "cell_type": "code",
   "execution_count": 7,
   "id": "73b5609f",
   "metadata": {},
   "outputs": [
    {
     "data": {
      "text/plain": [
       "1235"
      ]
     },
     "execution_count": 7,
     "metadata": {},
     "output_type": "execute_result"
    }
   ],
   "source": [
    "len(data)"
   ]
  },
  {
   "cell_type": "code",
   "execution_count": 9,
   "id": "90f7cbae",
   "metadata": {},
   "outputs": [
    {
     "data": {
      "text/html": [
       "<div>\n",
       "<style scoped>\n",
       "    .dataframe tbody tr th:only-of-type {\n",
       "        vertical-align: middle;\n",
       "    }\n",
       "\n",
       "    .dataframe tbody tr th {\n",
       "        vertical-align: top;\n",
       "    }\n",
       "\n",
       "    .dataframe thead th {\n",
       "        text-align: right;\n",
       "    }\n",
       "</style>\n",
       "<table border=\"1\" class=\"dataframe\">\n",
       "  <thead>\n",
       "    <tr style=\"text-align: right;\">\n",
       "      <th></th>\n",
       "      <th>Open</th>\n",
       "      <th>High</th>\n",
       "      <th>Low</th>\n",
       "      <th>Close</th>\n",
       "      <th>Adj Close</th>\n",
       "      <th>Volume</th>\n",
       "    </tr>\n",
       "    <tr>\n",
       "      <th>Date</th>\n",
       "      <th></th>\n",
       "      <th></th>\n",
       "      <th></th>\n",
       "      <th></th>\n",
       "      <th></th>\n",
       "      <th></th>\n",
       "    </tr>\n",
       "  </thead>\n",
       "  <tbody>\n",
       "    <tr>\n",
       "      <th>2023-06-19</th>\n",
       "      <td>107.849998</td>\n",
       "      <td>108.400002</td>\n",
       "      <td>106.699997</td>\n",
       "      <td>108.000000</td>\n",
       "      <td>108.000000</td>\n",
       "      <td>4126281</td>\n",
       "    </tr>\n",
       "    <tr>\n",
       "      <th>2023-06-20</th>\n",
       "      <td>107.900002</td>\n",
       "      <td>108.699997</td>\n",
       "      <td>106.750000</td>\n",
       "      <td>108.250000</td>\n",
       "      <td>108.250000</td>\n",
       "      <td>11218628</td>\n",
       "    </tr>\n",
       "    <tr>\n",
       "      <th>2023-06-21</th>\n",
       "      <td>108.250000</td>\n",
       "      <td>108.400002</td>\n",
       "      <td>106.500000</td>\n",
       "      <td>106.699997</td>\n",
       "      <td>106.699997</td>\n",
       "      <td>13138208</td>\n",
       "    </tr>\n",
       "    <tr>\n",
       "      <th>2023-06-22</th>\n",
       "      <td>106.699997</td>\n",
       "      <td>107.000000</td>\n",
       "      <td>104.000000</td>\n",
       "      <td>104.449997</td>\n",
       "      <td>104.449997</td>\n",
       "      <td>16244574</td>\n",
       "    </tr>\n",
       "    <tr>\n",
       "      <th>2023-06-23</th>\n",
       "      <td>104.349998</td>\n",
       "      <td>105.400002</td>\n",
       "      <td>103.300003</td>\n",
       "      <td>105.050003</td>\n",
       "      <td>105.050003</td>\n",
       "      <td>7880417</td>\n",
       "    </tr>\n",
       "  </tbody>\n",
       "</table>\n",
       "</div>"
      ],
      "text/plain": [
       "                  Open        High         Low       Close   Adj Close  \\\n",
       "Date                                                                     \n",
       "2023-06-19  107.849998  108.400002  106.699997  108.000000  108.000000   \n",
       "2023-06-20  107.900002  108.699997  106.750000  108.250000  108.250000   \n",
       "2023-06-21  108.250000  108.400002  106.500000  106.699997  106.699997   \n",
       "2023-06-22  106.699997  107.000000  104.000000  104.449997  104.449997   \n",
       "2023-06-23  104.349998  105.400002  103.300003  105.050003  105.050003   \n",
       "\n",
       "              Volume  \n",
       "Date                  \n",
       "2023-06-19   4126281  \n",
       "2023-06-20  11218628  \n",
       "2023-06-21  13138208  \n",
       "2023-06-22  16244574  \n",
       "2023-06-23   7880417  "
      ]
     },
     "execution_count": 9,
     "metadata": {},
     "output_type": "execute_result"
    }
   ],
   "source": [
    "data.tail(5)"
   ]
  },
  {
   "cell_type": "code",
   "execution_count": 10,
   "id": "c2e62b9a",
   "metadata": {},
   "outputs": [],
   "source": [
    "opn = data[['Open']]"
   ]
  },
  {
   "cell_type": "code",
   "execution_count": 11,
   "id": "e0dce2c9",
   "metadata": {},
   "outputs": [
    {
     "data": {
      "text/plain": [
       "<AxesSubplot:xlabel='Date'>"
      ]
     },
     "execution_count": 11,
     "metadata": {},
     "output_type": "execute_result"
    },
    {
     "data": {
      "image/png": "[encoded data removed]",
      "text/plain": [
       "<Figure size 432x288 with 1 Axes>"
      ]
     },
     "metadata": {
      "needs_background": "light"
     },
     "output_type": "display_data"
    }
   ],
   "source": [
    "opn.plot()"
   ]
  },
  {
   "cell_type": "code",
   "execution_count": 12,
   "id": "f5a837c8",
   "metadata": {},
   "outputs": [],
   "source": [
    "import matplotlib.pyplot as plt"
   ]
  },
  {
   "cell_type": "code",
   "execution_count": 13,
   "id": "d42c2678",
   "metadata": {},
   "outputs": [],
   "source": [
    "ds = opn.values"
   ]
  },
  {
   "cell_type": "code",
   "execution_count": 14,
   "id": "ba293c05",
   "metadata": {
    "scrolled": true
   },
   "outputs": [
    {
     "data": {
      "text/plain": [
       "array([[113.90000153],\n",
       "       [113.73332977],\n",
       "       [113.80000305],\n",
       "       ...,\n",
       "       [108.25      ],\n",
       "       [106.69999695],\n",
       "       [104.34999847]])"
      ]
     },
     "execution_count": 14,
     "metadata": {},
     "output_type": "execute_result"
    }
   ],
   "source": [
    "ds"
   ]
  },
  {
   "cell_type": "code",
   "execution_count": 15,
   "id": "69453532",
   "metadata": {},
   "outputs": [
    {
     "data": {
      "text/plain": [
       "[<matplotlib.lines.Line2D at 0x2a9417ccf10>]"
      ]
     },
     "execution_count": 15,
     "metadata": {},
     "output_type": "execute_result"
    },
    {
     "data": {
      "image/png": "[encoded data removed]",
      "text/plain": [
       "<Figure size 432x288 with 1 Axes>"
      ]
     },
     "metadata": {
      "needs_background": "light"
     },
     "output_type": "display_data"
    }
   ],
   "source": [
    "plt.plot(ds)"
   ]
  },
  {
   "cell_type": "code",
   "execution_count": 16,
   "id": "7577f152",
   "metadata": {},
   "outputs": [],
   "source": [
    "import numpy as np"
   ]
  },
  {
   "cell_type": "code",
   "execution_count": 17,
   "id": "305c4ac0",
   "metadata": {},
   "outputs": [],
   "source": [
    "from sklearn.preprocessing import MinMaxScaler"
   ]
  },
  {
   "cell_type": "markdown",
   "id": "88169eec",
   "metadata": {},
   "source": [
    "Using MinMaxScaler for normalizing data between 0 & 1"
   ]
  },
  {
   "cell_type": "code",
   "execution_count": 18,
   "id": "69cc9070",
   "metadata": {},
   "outputs": [],
   "source": [
    "normalizer = MinMaxScaler(feature_range=(0,1))\n",
    "ds_scaled = normalizer.fit_transform(np.array(ds).reshape(-1,1))"
   ]
  },
  {
   "cell_type": "code",
   "execution_count": 19,
   "id": "e66b8497",
   "metadata": {},
   "outputs": [
    {
     "data": {
      "text/plain": [
       "(1235, 1235)"
      ]
     },
     "execution_count": 19,
     "metadata": {},
     "output_type": "execute_result"
    }
   ],
   "source": [
    "len(ds_scaled), len(ds)"
   ]
  },
  {
   "cell_type": "markdown",
   "id": "e3a6151e",
   "metadata": {},
   "source": [
    "Defining test and train data sizes"
   ]
  },
  {
   "cell_type": "code",
   "execution_count": 20,
   "id": "28f10916",
   "metadata": {},
   "outputs": [],
   "source": [
    "train_size = int(len(ds_scaled)*0.70)\n",
    "test_size = len(ds_scaled) - train_size"
   ]
  },
  {
   "cell_type": "code",
   "execution_count": 21,
   "id": "338ec004",
   "metadata": {},
   "outputs": [
    {
     "data": {
      "text/plain": [
       "(864, 371)"
      ]
     },
     "execution_count": 21,
     "metadata": {},
     "output_type": "execute_result"
    }
   ],
   "source": [
    "train_size,test_size"
   ]
  },
  {
   "cell_type": "markdown",
   "id": "a101fcf2",
   "metadata": {},
   "source": [
    "Splitting data between train and test"
   ]
  },
  {
   "cell_type": "code",
   "execution_count": 22,
   "id": "01b930d8",
   "metadata": {},
   "outputs": [],
   "source": [
    "ds_train, ds_test = ds_scaled[0:train_size,:], ds_scaled[train_size:len(ds_scaled),:1]"
   ]
  },
  {
   "cell_type": "code",
   "execution_count": 23,
   "id": "c76ae6e3",
   "metadata": {},
   "outputs": [
    {
     "data": {
      "text/plain": [
       "(864, 371)"
      ]
     },
     "execution_count": 23,
     "metadata": {},
     "output_type": "execute_result"
    }
   ],
   "source": [
    "len(ds_train),len(ds_test)"
   ]
  },
  {
   "cell_type": "markdown",
   "id": "e4bc1c89",
   "metadata": {},
   "source": [
    "creating dataset in time series for LSTM model \n",
    "X[100,120,140,160,180] : Y[200]"
   ]
  },
  {
   "cell_type": "code",
   "execution_count": 24,
   "id": "5390af12",
   "metadata": {},
   "outputs": [],
   "source": [
    "def create_ds(dataset,step):\n",
    "    Xtrain, Ytrain = [], []\n",
    "    for i in range(len(dataset)-step-1):\n",
    "        a = dataset[i:(i+step), 0]\n",
    "        Xtrain.append(a)\n",
    "        Ytrain.append(dataset[i + step, 0])\n",
    "    return np.array(Xtrain), np.array(Ytrain)"
   ]
  },
  {
   "cell_type": "markdown",
   "id": "8999d46d",
   "metadata": {},
   "source": [
    "Taking 100 days price as one record for training"
   ]
  },
  {
   "cell_type": "code",
   "execution_count": 25,
   "id": "5c7f7070",
   "metadata": {},
   "outputs": [],
   "source": [
    "time_stamp = 100\n",
    "X_train, y_train = create_ds(ds_train,time_stamp)\n",
    "X_test, y_test = create_ds(ds_test,time_stamp)"
   ]
  },
  {
   "cell_type": "code",
   "execution_count": 26,
   "id": "a797e7e3",
   "metadata": {},
   "outputs": [
    {
     "data": {
      "text/plain": [
       "((763, 100), (763,))"
      ]
     },
     "execution_count": 26,
     "metadata": {},
     "output_type": "execute_result"
    }
   ],
   "source": [
    "X_train.shape,y_train.shape"
   ]
  },
  {
   "cell_type": "code",
   "execution_count": 27,
   "id": "b9ae6918",
   "metadata": {},
   "outputs": [
    {
     "data": {
      "text/plain": [
       "((270, 100), (270,))"
      ]
     },
     "execution_count": 27,
     "metadata": {},
     "output_type": "execute_result"
    }
   ],
   "source": [
    "X_test.shape, y_test.shape"
   ]
  },
  {
   "cell_type": "markdown",
   "id": "d6038509",
   "metadata": {},
   "source": [
    "Reshaping data to fit into LSTM model"
   ]
  },
  {
   "cell_type": "code",
   "execution_count": 28,
   "id": "1c5cbd54",
   "metadata": {},
   "outputs": [],
   "source": [
    "X_train = X_train.reshape(X_train.shape[0],X_train.shape[1] , 1)\n",
    "X_test = X_test.reshape(X_test.shape[0],X_test.shape[1] , 1)"
   ]
  },
  {
   "cell_type": "code",
   "execution_count": 29,
   "id": "3d74c9cf",
   "metadata": {},
   "outputs": [],
   "source": [
    "from keras.models import Sequential\n",
    "from keras.layers import Dense, LSTM"
   ]
  },
  {
   "cell_type": "markdown",
   "id": "370d60af",
   "metadata": {},
   "source": [
    "Creating LSTM model using keras"
   ]
  },
  {
   "cell_type": "code",
   "execution_count": 30,
   "id": "b6c79d29",
   "metadata": {},
   "outputs": [
    {
     "name": "stdout",
     "output_type": "stream",
     "text": [
      "Model: \"sequential\"\n",
      "_________________________________________________________________\n",
      " Layer (type)                Output Shape              Param #   \n",
      "=================================================================\n",
      " lstm (LSTM)                 (None, 100, 50)           10400     \n",
      "                                                                 \n",
      " lstm_1 (LSTM)               (None, 100, 50)           20200     \n",
      "                                                                 \n",
      " lstm_2 (LSTM)               (None, 50)                20200     \n",
      "                                                                 \n",
      " dense (Dense)               (None, 1)                 51        \n",
      "                                                                 \n",
      "=================================================================\n",
      "Total params: 50,851\n",
      "Trainable params: 50,851\n",
      "Non-trainable params: 0\n",
      "_________________________________________________________________\n"
     ]
    }
   ],
   "source": [
    "model = Sequential()\n",
    "model.add(LSTM(units=50,return_sequences=True,input_shape=(X_train.shape[1],1)))\n",
    "model.add(LSTM(units=50,return_sequences=True))\n",
    "model.add(LSTM(units=50))\n",
    "model.add(Dense(units=1,activation='linear'))\n",
    "model.summary()"
   ]
  },
  {
   "cell_type": "markdown",
   "id": "474780f0",
   "metadata": {},
   "source": [
    "Training model with adam optimizer and mean squared error loss function"
   ]
  },
  {
   "cell_type": "code",
   "execution_count": 31,
   "id": "bc735e8e",
   "metadata": {},
   "outputs": [
    {
     "name": "stdout",
     "output_type": "stream",
     "text": [
      "Epoch 1/100\n",
      "12/12 [==============================] - 13s 330ms/step - loss: 0.0820 - val_loss: 0.0105\n",
      "Epoch 2/100\n",
      "12/12 [==============================] - 2s 211ms/step - loss: 0.0132 - val_loss: 0.0056\n",
      "Epoch 3/100\n",
      "12/12 [==============================] - 2s 201ms/step - loss: 0.0083 - val_loss: 0.0057\n",
      "Epoch 4/100\n",
      "12/12 [==============================] - 3s 247ms/step - loss: 0.0057 - val_loss: 0.0021\n",
      "Epoch 5/100\n",
      "12/12 [==============================] - 3s 253ms/step - loss: 0.0046 - val_loss: 0.0021\n",
      "Epoch 6/100\n",
      "12/12 [==============================] - 3s 247ms/step - loss: 0.0044 - val_loss: 0.0021\n",
      "Epoch 7/100\n",
      "12/12 [==============================] - 3s 252ms/step - loss: 0.0043 - val_loss: 0.0020\n",
      "Epoch 8/100\n",
      "12/12 [==============================] - 3s 253ms/step - loss: 0.0041 - val_loss: 0.0021\n",
      "Epoch 9/100\n",
      "12/12 [==============================] - 3s 247ms/step - loss: 0.0039 - val_loss: 0.0019\n",
      "Epoch 10/100\n",
      "12/12 [==============================] - 3s 255ms/step - loss: 0.0038 - val_loss: 0.0021\n",
      "Epoch 11/100\n",
      "12/12 [==============================] - 3s 245ms/step - loss: 0.0037 - val_loss: 0.0026\n",
      "Epoch 12/100\n",
      "12/12 [==============================] - 3s 253ms/step - loss: 0.0038 - val_loss: 0.0028\n",
      "Epoch 13/100\n",
      "12/12 [==============================] - 3s 247ms/step - loss: 0.0036 - val_loss: 0.0018\n",
      "Epoch 14/100\n",
      "12/12 [==============================] - 3s 253ms/step - loss: 0.0036 - val_loss: 0.0018\n",
      "Epoch 15/100\n",
      "12/12 [==============================] - 3s 254ms/step - loss: 0.0035 - val_loss: 0.0025\n",
      "Epoch 16/100\n",
      "12/12 [==============================] - 3s 221ms/step - loss: 0.0035 - val_loss: 0.0019\n",
      "Epoch 17/100\n",
      "12/12 [==============================] - 2s 197ms/step - loss: 0.0032 - val_loss: 0.0017\n",
      "Epoch 18/100\n",
      "12/12 [==============================] - 3s 214ms/step - loss: 0.0032 - val_loss: 0.0020\n",
      "Epoch 19/100\n",
      "12/12 [==============================] - 3s 249ms/step - loss: 0.0030 - val_loss: 0.0017\n",
      "Epoch 20/100\n",
      "12/12 [==============================] - 3s 245ms/step - loss: 0.0029 - val_loss: 0.0019\n",
      "Epoch 21/100\n",
      "12/12 [==============================] - 3s 242ms/step - loss: 0.0029 - val_loss: 0.0017\n",
      "Epoch 22/100\n",
      "12/12 [==============================] - 3s 241ms/step - loss: 0.0028 - val_loss: 0.0018\n",
      "Epoch 23/100\n",
      "12/12 [==============================] - 3s 236ms/step - loss: 0.0027 - val_loss: 0.0017\n",
      "Epoch 24/100\n",
      "12/12 [==============================] - 3s 238ms/step - loss: 0.0028 - val_loss: 0.0023\n",
      "Epoch 25/100\n",
      "12/12 [==============================] - 3s 239ms/step - loss: 0.0034 - val_loss: 0.0019\n",
      "Epoch 26/100\n",
      "12/12 [==============================] - 3s 248ms/step - loss: 0.0031 - val_loss: 0.0016\n",
      "Epoch 27/100\n",
      "12/12 [==============================] - 3s 245ms/step - loss: 0.0028 - val_loss: 0.0015\n",
      "Epoch 28/100\n",
      "12/12 [==============================] - 3s 237ms/step - loss: 0.0025 - val_loss: 0.0016\n",
      "Epoch 29/100\n",
      "12/12 [==============================] - 3s 240ms/step - loss: 0.0026 - val_loss: 0.0015\n",
      "Epoch 30/100\n",
      "12/12 [==============================] - 3s 245ms/step - loss: 0.0025 - val_loss: 0.0015\n",
      "Epoch 31/100\n",
      "12/12 [==============================] - 3s 241ms/step - loss: 0.0024 - val_loss: 0.0015\n",
      "Epoch 32/100\n",
      "12/12 [==============================] - 3s 238ms/step - loss: 0.0024 - val_loss: 0.0016\n",
      "Epoch 33/100\n",
      "12/12 [==============================] - 3s 238ms/step - loss: 0.0024 - val_loss: 0.0013\n",
      "Epoch 34/100\n",
      "12/12 [==============================] - 3s 241ms/step - loss: 0.0023 - val_loss: 0.0013\n",
      "Epoch 35/100\n",
      "12/12 [==============================] - 3s 246ms/step - loss: 0.0023 - val_loss: 0.0016\n",
      "Epoch 36/100\n",
      "12/12 [==============================] - 3s 245ms/step - loss: 0.0022 - val_loss: 0.0014\n",
      "Epoch 37/100\n",
      "12/12 [==============================] - 3s 237ms/step - loss: 0.0021 - val_loss: 0.0012\n",
      "Epoch 38/100\n",
      "12/12 [==============================] - 3s 247ms/step - loss: 0.0025 - val_loss: 0.0018\n",
      "Epoch 39/100\n",
      "12/12 [==============================] - 3s 240ms/step - loss: 0.0027 - val_loss: 0.0024\n",
      "Epoch 40/100\n",
      "12/12 [==============================] - 3s 239ms/step - loss: 0.0023 - val_loss: 0.0015\n",
      "Epoch 41/100\n",
      "12/12 [==============================] - 3s 248ms/step - loss: 0.0025 - val_loss: 0.0015\n",
      "Epoch 42/100\n",
      "12/12 [==============================] - 3s 248ms/step - loss: 0.0022 - val_loss: 0.0011\n",
      "Epoch 43/100\n",
      "12/12 [==============================] - 3s 245ms/step - loss: 0.0020 - val_loss: 0.0011\n",
      "Epoch 44/100\n",
      "12/12 [==============================] - 3s 235ms/step - loss: 0.0020 - val_loss: 0.0013\n",
      "Epoch 45/100\n",
      "12/12 [==============================] - 3s 243ms/step - loss: 0.0020 - val_loss: 0.0010\n",
      "Epoch 46/100\n",
      "12/12 [==============================] - 3s 243ms/step - loss: 0.0019 - val_loss: 0.0013\n",
      "Epoch 47/100\n",
      "12/12 [==============================] - 3s 238ms/step - loss: 0.0018 - val_loss: 9.8492e-04\n",
      "Epoch 48/100\n",
      "12/12 [==============================] - 3s 237ms/step - loss: 0.0018 - val_loss: 0.0010\n",
      "Epoch 49/100\n",
      "12/12 [==============================] - 3s 240ms/step - loss: 0.0018 - val_loss: 0.0012\n",
      "Epoch 50/100\n",
      "12/12 [==============================] - 3s 242ms/step - loss: 0.0017 - val_loss: 9.2480e-04\n",
      "Epoch 51/100\n",
      "12/12 [==============================] - 3s 239ms/step - loss: 0.0017 - val_loss: 9.0132e-04\n",
      "Epoch 52/100\n",
      "12/12 [==============================] - 3s 241ms/step - loss: 0.0017 - val_loss: 0.0012\n",
      "Epoch 53/100\n",
      "12/12 [==============================] - 3s 243ms/step - loss: 0.0016 - val_loss: 8.7284e-04\n",
      "Epoch 54/100\n",
      "12/12 [==============================] - 3s 239ms/step - loss: 0.0016 - val_loss: 0.0012\n",
      "Epoch 55/100\n",
      "12/12 [==============================] - 3s 242ms/step - loss: 0.0017 - val_loss: 9.1909e-04\n",
      "Epoch 56/100\n",
      "12/12 [==============================] - 3s 241ms/step - loss: 0.0016 - val_loss: 8.4411e-04\n",
      "Epoch 57/100\n",
      "12/12 [==============================] - 3s 236ms/step - loss: 0.0015 - val_loss: 0.0011\n",
      "Epoch 58/100\n",
      "12/12 [==============================] - 3s 244ms/step - loss: 0.0015 - val_loss: 8.3106e-04\n",
      "Epoch 59/100\n",
      "12/12 [==============================] - 3s 240ms/step - loss: 0.0015 - val_loss: 7.9909e-04\n",
      "Epoch 60/100\n",
      "12/12 [==============================] - 3s 243ms/step - loss: 0.0014 - val_loss: 8.2646e-04\n",
      "Epoch 61/100\n",
      "12/12 [==============================] - 3s 229ms/step - loss: 0.0014 - val_loss: 8.1455e-04\n",
      "Epoch 62/100\n",
      "12/12 [==============================] - 3s 240ms/step - loss: 0.0014 - val_loss: 7.6932e-04\n",
      "Epoch 63/100\n",
      "12/12 [==============================] - 3s 248ms/step - loss: 0.0014 - val_loss: 0.0010\n",
      "Epoch 64/100\n",
      "12/12 [==============================] - 3s 241ms/step - loss: 0.0016 - val_loss: 7.5559e-04\n",
      "Epoch 65/100\n",
      "12/12 [==============================] - 3s 247ms/step - loss: 0.0014 - val_loss: 0.0012\n",
      "Epoch 66/100\n",
      "12/12 [==============================] - 3s 239ms/step - loss: 0.0014 - val_loss: 9.4004e-04\n",
      "Epoch 67/100\n",
      "12/12 [==============================] - 3s 241ms/step - loss: 0.0015 - val_loss: 0.0018\n",
      "Epoch 68/100\n",
      "12/12 [==============================] - 3s 241ms/step - loss: 0.0015 - val_loss: 7.7188e-04\n",
      "Epoch 69/100\n",
      "12/12 [==============================] - 3s 244ms/step - loss: 0.0015 - val_loss: 7.3885e-04\n",
      "Epoch 70/100\n",
      "12/12 [==============================] - 3s 242ms/step - loss: 0.0013 - val_loss: 7.0939e-04\n",
      "Epoch 71/100\n",
      "12/12 [==============================] - 2s 200ms/step - loss: 0.0013 - val_loss: 9.7440e-04\n",
      "Epoch 72/100\n",
      "12/12 [==============================] - 2s 192ms/step - loss: 0.0013 - val_loss: 7.2512e-04\n",
      "Epoch 73/100\n",
      "12/12 [==============================] - 2s 201ms/step - loss: 0.0012 - val_loss: 7.4159e-04\n",
      "Epoch 74/100\n",
      "12/12 [==============================] - 3s 220ms/step - loss: 0.0012 - val_loss: 7.6995e-04\n",
      "Epoch 75/100\n",
      "12/12 [==============================] - 3s 248ms/step - loss: 0.0012 - val_loss: 6.7172e-04\n",
      "Epoch 76/100\n",
      "12/12 [==============================] - 3s 243ms/step - loss: 0.0012 - val_loss: 6.5691e-04\n",
      "Epoch 77/100\n",
      "12/12 [==============================] - 3s 238ms/step - loss: 0.0012 - val_loss: 7.0956e-04\n",
      "Epoch 78/100\n",
      "12/12 [==============================] - 3s 241ms/step - loss: 0.0011 - val_loss: 6.3926e-04\n",
      "Epoch 79/100\n",
      "12/12 [==============================] - 3s 245ms/step - loss: 0.0011 - val_loss: 6.0867e-04\n",
      "Epoch 80/100\n",
      "12/12 [==============================] - 3s 248ms/step - loss: 0.0011 - val_loss: 6.0852e-04\n",
      "Epoch 81/100\n",
      "12/12 [==============================] - 3s 246ms/step - loss: 0.0011 - val_loss: 6.0969e-04\n",
      "Epoch 82/100\n",
      "12/12 [==============================] - 3s 240ms/step - loss: 0.0012 - val_loss: 0.0010\n",
      "Epoch 83/100\n",
      "12/12 [==============================] - 3s 241ms/step - loss: 0.0011 - val_loss: 6.9775e-04\n",
      "Epoch 84/100\n",
      "12/12 [==============================] - 3s 261ms/step - loss: 0.0011 - val_loss: 9.4506e-04\n",
      "Epoch 85/100\n",
      "12/12 [==============================] - 3s 242ms/step - loss: 0.0012 - val_loss: 5.5888e-04\n",
      "Epoch 86/100\n",
      "12/12 [==============================] - 3s 242ms/step - loss: 0.0013 - val_loss: 0.0012\n",
      "Epoch 87/100\n",
      "12/12 [==============================] - 3s 242ms/step - loss: 0.0013 - val_loss: 6.8370e-04\n",
      "Epoch 88/100\n",
      "12/12 [==============================] - 3s 241ms/step - loss: 0.0012 - val_loss: 8.5690e-04\n",
      "Epoch 89/100\n",
      "12/12 [==============================] - 3s 240ms/step - loss: 0.0011 - val_loss: 6.5229e-04\n",
      "Epoch 90/100\n",
      "12/12 [==============================] - 3s 240ms/step - loss: 0.0011 - val_loss: 5.5560e-04\n",
      "Epoch 91/100\n",
      "12/12 [==============================] - 3s 240ms/step - loss: 9.8928e-04 - val_loss: 5.4149e-04\n",
      "Epoch 92/100\n",
      "12/12 [==============================] - 3s 246ms/step - loss: 0.0010 - val_loss: 5.3260e-04\n",
      "Epoch 93/100\n",
      "12/12 [==============================] - 3s 243ms/step - loss: 0.0010 - val_loss: 6.4509e-04\n",
      "Epoch 94/100\n",
      "12/12 [==============================] - 3s 243ms/step - loss: 0.0011 - val_loss: 5.6291e-04\n",
      "Epoch 95/100\n",
      "12/12 [==============================] - 3s 240ms/step - loss: 9.6692e-04 - val_loss: 5.2116e-04\n",
      "Epoch 96/100\n",
      "12/12 [==============================] - 3s 253ms/step - loss: 0.0010 - val_loss: 7.6132e-04\n",
      "Epoch 97/100\n",
      "12/12 [==============================] - 3s 242ms/step - loss: 0.0011 - val_loss: 5.4053e-04\n",
      "Epoch 98/100\n",
      "12/12 [==============================] - 2s 203ms/step - loss: 8.9016e-04 - val_loss: 6.8108e-04\n",
      "Epoch 99/100\n",
      "12/12 [==============================] - 2s 204ms/step - loss: 9.8047e-04 - val_loss: 5.0642e-04\n",
      "Epoch 100/100\n",
      "12/12 [==============================] - 3s 221ms/step - loss: 8.9466e-04 - val_loss: 5.1424e-04\n"
     ]
    },
    {
     "data": {
      "text/plain": [
       "<keras.callbacks.History at 0x2a94d37eb80>"
      ]
     },
     "execution_count": 31,
     "metadata": {},
     "output_type": "execute_result"
    }
   ],
   "source": [
    "model.compile(loss='mean_squared_error',optimizer='adam')\n",
    "model.fit(X_train,y_train,validation_data=(X_test,y_test),epochs=100,batch_size=64)"
   ]
  },
  {
   "cell_type": "markdown",
   "id": "0e0ca274",
   "metadata": {},
   "source": [
    "PLotting loss, it shows that loss has decreased significantly and model trained well"
   ]
  },
  {
   "cell_type": "code",
   "execution_count": 32,
   "id": "ccd360c8",
   "metadata": {},
   "outputs": [
    {
     "data": {
      "text/plain": [
       "[<matplotlib.lines.Line2D at 0x2a9558bda90>]"
      ]
     },
     "execution_count": 32,
     "metadata": {},
     "output_type": "execute_result"
    },
    {
     "data": {
      "image/png": "[encoded data removed]",
      "text/plain": [
       "<Figure size 432x288 with 1 Axes>"
      ]
     },
     "metadata": {
      "needs_background": "light"
     },
     "output_type": "display_data"
    }
   ],
   "source": [
    "loss = model.history.history['loss']\n",
    "plt.plot(loss)"
   ]
  },
  {
   "cell_type": "markdown",
   "id": "b22e5532",
   "metadata": {},
   "source": [
    "Predicitng on train and test data"
   ]
  },
  {
   "cell_type": "code",
   "execution_count": 33,
   "id": "92db1ab8",
   "metadata": {},
   "outputs": [
    {
     "name": "stdout",
     "output_type": "stream",
     "text": [
      "24/24 [==============================] - 4s 55ms/step\n",
      "9/9 [==============================] - 0s 51ms/step\n"
     ]
    }
   ],
   "source": [
    "train_predict = model.predict(X_train)\n",
    "test_predict = model.predict(X_test)"
   ]
  },
  {
   "cell_type": "markdown",
   "id": "22360345",
   "metadata": {},
   "source": [
    "Inverse transform to get actual value"
   ]
  },
  {
   "cell_type": "code",
   "execution_count": 34,
   "id": "c6934abd",
   "metadata": {},
   "outputs": [],
   "source": [
    "train_predict = normalizer.inverse_transform(train_predict)\n",
    "test_predict = normalizer.inverse_transform(test_predict)"
   ]
  },
  {
   "cell_type": "markdown",
   "id": "b056a624",
   "metadata": {},
   "source": [
    "Comparing using visuals"
   ]
  },
  {
   "cell_type": "code",
   "execution_count": 35,
   "id": "c8072bd7",
   "metadata": {},
   "outputs": [
    {
     "data": {
      "text/plain": [
       "[<matplotlib.lines.Line2D at 0x2a957dc6790>]"
      ]
     },
     "execution_count": 35,
     "metadata": {},
     "output_type": "execute_result"
    },
    {
     "data": {
      "image/png": "[encoded data removed]",
      "text/plain": [
       "<Figure size 432x288 with 1 Axes>"
      ]
     },
     "metadata": {
      "needs_background": "light"
     },
     "output_type": "display_data"
    }
   ],
   "source": [
    "plt.plot(normalizer.inverse_transform(ds_scaled))\n",
    "plt.plot(train_predict)\n",
    "plt.plot(test_predict)"
   ]
  },
  {
   "cell_type": "code",
   "execution_count": 36,
   "id": "37f1d1a0",
   "metadata": {},
   "outputs": [
    {
     "data": {
      "text/plain": [
       "numpy.ndarray"
      ]
     },
     "execution_count": 36,
     "metadata": {},
     "output_type": "execute_result"
    }
   ],
   "source": [
    "type(train_predict)"
   ]
  },
  {
   "cell_type": "code",
   "execution_count": 37,
   "id": "76e0d17e",
   "metadata": {},
   "outputs": [],
   "source": [
    "test = np.vstack((train_predict,test_predict))"
   ]
  },
  {
   "cell_type": "markdown",
   "id": "e423e95f",
   "metadata": {},
   "source": [
    "Combining the predited data to create uniform data visualization"
   ]
  },
  {
   "cell_type": "code",
   "execution_count": 38,
   "id": "d4dde0e7",
   "metadata": {},
   "outputs": [
    {
     "data": {
      "text/plain": [
       "[<matplotlib.lines.Line2D at 0x2a957de0b50>]"
      ]
     },
     "execution_count": 38,
     "metadata": {},
     "output_type": "execute_result"
    },
    {
     "data": {
      "image/png": "[encoded data removed]",
      "text/plain": [
       "<Figure size 432x288 with 1 Axes>"
      ]
     },
     "metadata": {
      "needs_background": "light"
     },
     "output_type": "display_data"
    }
   ],
   "source": [
    "plt.plot(normalizer.inverse_transform(ds_scaled))\n",
    "plt.plot(test)"
   ]
  },
  {
   "cell_type": "code",
   "execution_count": 39,
   "id": "85a9972e",
   "metadata": {},
   "outputs": [
    {
     "data": {
      "text/plain": [
       "371"
      ]
     },
     "execution_count": 39,
     "metadata": {},
     "output_type": "execute_result"
    }
   ],
   "source": [
    "len(ds_test)"
   ]
  },
  {
   "cell_type": "markdown",
   "id": "70d328a3",
   "metadata": {},
   "source": [
    "Getting the last 100 days records"
   ]
  },
  {
   "cell_type": "code",
   "execution_count": 40,
   "id": "86b11766",
   "metadata": {},
   "outputs": [],
   "source": [
    "fut_inp = ds_test[270:]"
   ]
  },
  {
   "cell_type": "code",
   "execution_count": 41,
   "id": "3facb2c2",
   "metadata": {},
   "outputs": [],
   "source": [
    "fut_inp = fut_inp.reshape(1,-1)"
   ]
  },
  {
   "cell_type": "code",
   "execution_count": 42,
   "id": "836daab4",
   "metadata": {},
   "outputs": [],
   "source": [
    "tmp_inp = list(fut_inp)"
   ]
  },
  {
   "cell_type": "code",
   "execution_count": 43,
   "id": "cfcbdfec",
   "metadata": {},
   "outputs": [
    {
     "data": {
      "text/plain": [
       "(1, 101)"
      ]
     },
     "execution_count": 43,
     "metadata": {},
     "output_type": "execute_result"
    }
   ],
   "source": [
    "fut_inp.shape"
   ]
  },
  {
   "cell_type": "markdown",
   "id": "d6bbfa9f",
   "metadata": {},
   "source": [
    "Creating list of the last 100 data"
   ]
  },
  {
   "cell_type": "code",
   "execution_count": 44,
   "id": "ee132d62",
   "metadata": {},
   "outputs": [],
   "source": [
    "tmp_inp = tmp_inp[0].tolist()"
   ]
  },
  {
   "cell_type": "markdown",
   "id": "1aeeff1b",
   "metadata": {},
   "source": [
    "Predicting next 30 days price suing the current data\n",
    "It will predict in sliding window manner (algorithm) with stride 1"
   ]
  },
  {
   "cell_type": "code",
   "execution_count": 45,
   "id": "6b48264c",
   "metadata": {},
   "outputs": [
    {
     "name": "stdout",
     "output_type": "stream",
     "text": [
      "[[0.7073231935501099], [0.7014837861061096], [0.701931357383728], [0.7047320008277893], [0.708564281463623], [0.7129302620887756], [0.7174899578094482], [0.7219576835632324], [0.726116418838501], [0.7298322916030884], [0.7330526113510132], [0.7357937097549438], [0.73812335729599], [0.740140438079834], [0.7419571280479431], [0.743681788444519], [0.7454079985618591], [0.7472068071365356], [0.7491236329078674], [0.7511793971061707], [0.7533724904060364], [0.7556859254837036], [0.7580905556678772], [0.7605522871017456], [0.7630363702774048], [0.7655118703842163], [0.767953097820282], [0.7703415751457214], [0.7726670503616333], [0.7749258279800415]]\n"
     ]
    }
   ],
   "source": [
    "lst_output=[]\n",
    "n_steps=100\n",
    "i=0\n",
    "while(i<30):\n",
    "    \n",
    "    if(len(tmp_inp)>100):\n",
    "        fut_inp = np.array(tmp_inp[1:])\n",
    "        fut_inp=fut_inp.reshape(1,-1)\n",
    "        fut_inp = fut_inp.reshape((1, n_steps, 1))\n",
    "        yhat = model.predict(fut_inp, verbose=0)\n",
    "        tmp_inp.extend(yhat[0].tolist())\n",
    "        tmp_inp = tmp_inp[1:]\n",
    "        lst_output.extend(yhat.tolist())\n",
    "        i=i+1\n",
    "    else:\n",
    "        fut_inp = fut_inp.reshape((1, n_steps,1))\n",
    "        yhat = model.predict(fut_inp, verbose=0)\n",
    "        tmp_inp.extend(yhat[0].tolist())\n",
    "        lst_output.extend(yhat.tolist())\n",
    "        i=i+1\n",
    "    \n",
    "\n",
    "print(lst_output)"
   ]
  },
  {
   "cell_type": "code",
   "execution_count": 46,
   "id": "86c210d9",
   "metadata": {},
   "outputs": [
    {
     "data": {
      "text/plain": [
       "1235"
      ]
     },
     "execution_count": 46,
     "metadata": {},
     "output_type": "execute_result"
    }
   ],
   "source": [
    "len(ds_scaled)"
   ]
  },
  {
   "cell_type": "markdown",
   "id": "4cd8a40e",
   "metadata": {},
   "source": [
    "Creating a dummy plane to plot graph one after another"
   ]
  },
  {
   "cell_type": "code",
   "execution_count": 47,
   "id": "2063dd08",
   "metadata": {},
   "outputs": [],
   "source": [
    "plot_new=np.arange(1,101)\n",
    "plot_pred=np.arange(101,131)"
   ]
  },
  {
   "cell_type": "code",
   "execution_count": 50,
   "id": "f1f40647",
   "metadata": {},
   "outputs": [
    {
     "data": {
      "text/plain": [
       "[<matplotlib.lines.Line2D at 0x2a95eaaf7c0>]"
      ]
     },
     "execution_count": 50,
     "metadata": {},
     "output_type": "execute_result"
    },
    {
     "data": {
      "image/png": "[encoded data removed]",
      "text/plain": [
       "<Figure size 432x288 with 1 Axes>"
      ]
     },
     "metadata": {
      "needs_background": "light"
     },
     "output_type": "display_data"
    }
   ],
   "source": [
    "plt.plot(plot_new[:100], normalizer.inverse_transform(ds_scaled[1132:])[:100])\n",
    "plt.plot(plot_pred[:100], normalizer.inverse_transform(lst_output)[:100])"
   ]
  },
  {
   "cell_type": "code",
   "execution_count": 51,
   "id": "a5cf3c70",
   "metadata": {},
   "outputs": [],
   "source": [
    "ds_new = ds_scaled.tolist()"
   ]
  },
  {
   "cell_type": "code",
   "execution_count": 52,
   "id": "a81e6ec9",
   "metadata": {},
   "outputs": [
    {
     "data": {
      "text/plain": [
       "1235"
      ]
     },
     "execution_count": 52,
     "metadata": {},
     "output_type": "execute_result"
    }
   ],
   "source": [
    "len(ds_new)"
   ]
  },
  {
   "cell_type": "markdown",
   "id": "8eab7ec5",
   "metadata": {},
   "source": [
    "Entends helps us to fill the missing value with approx va"
   ]
  },
  {
   "cell_type": "code",
   "execution_count": 53,
   "id": "9f4ff995",
   "metadata": {},
   "outputs": [
    {
     "data": {
      "text/plain": [
       "[<matplotlib.lines.Line2D at 0x2a95eb95eb0>]"
      ]
     },
     "execution_count": 53,
     "metadata": {},
     "output_type": "execute_result"
    },
    {
     "data": {
      "image/png": "[encoded data removed]",
      "text/plain": [
       "<Figure size 432x288 with 1 Axes>"
      ]
     },
     "metadata": {
      "needs_background": "light"
     },
     "output_type": "display_data"
    }
   ],
   "source": [
    "ds_new.extend(lst_output)\n",
    "plt.plot(ds_new[1200:])"
   ]
  },
  {
   "cell_type": "markdown",
   "id": "b1beda9f",
   "metadata": {},
   "source": [
    "Creating final data for plotting"
   ]
  },
  {
   "cell_type": "code",
   "execution_count": 54,
   "id": "b3583c42",
   "metadata": {},
   "outputs": [],
   "source": [
    "final_graph = normalizer.inverse_transform(ds_new).tolist()"
   ]
  },
  {
   "cell_type": "markdown",
   "id": "b45b4229",
   "metadata": {},
   "source": [
    "Plotting final results with predicted value after 30 Days"
   ]
  },
  {
   "cell_type": "code",
   "execution_count": 55,
   "id": "28bb15c2",
   "metadata": {},
   "outputs": [
    {
     "data": {
      "text/plain": [
       "<matplotlib.legend.Legend at 0x2a95ebb8340>"
      ]
     },
     "execution_count": 55,
     "metadata": {},
     "output_type": "execute_result"
    },
    {
     "data": {
      "image/png": "[encoded data removed]",
      "text/plain": [
       "<Figure size 432x288 with 1 Axes>"
      ]
     },
     "metadata": {
      "needs_background": "light"
     },
     "output_type": "display_data"
    }
   ],
   "source": [
    "plt.plot(final_graph,)\n",
    "plt.ylabel(\"Price\")\n",
    "plt.xlabel(\"Time\")\n",
    "plt.title(\"{0} prediction of next month open\".format(stock_symbol))\n",
    "plt.axhline(y=final_graph[len(final_graph)-1], color = 'red', linestyle = ':', label = 'NEXT 30D: {0}'.format(round(float(*final_graph[len(final_graph)-1]),2)))\n",
    "plt.legend()"
   ]
  }
 ],
 "metadata": {
  "kernelspec": {
   "display_name": "Python 3 (ipykernel)",
   "language": "python",
   "name": "python3"
  },
  "language_info": {
   "codemirror_mode": {
    "name": "ipython",
    "version": 3
   },
   "file_extension": ".py",
   "mimetype": "text/x-python",
   "name": "python",
   "nbconvert_exporter": "python",
   "pygments_lexer": "ipython3",
   "version": "3.9.12"
  }
 },
 "nbformat": 4,
 "nbformat_minor": 5
}
